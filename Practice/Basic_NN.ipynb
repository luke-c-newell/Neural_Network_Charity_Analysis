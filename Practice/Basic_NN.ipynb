{
 "cells": [
  {
   "cell_type": "code",
   "execution_count": 1,
   "metadata": {},
   "outputs": [],
   "source": [
    "# Import our dependencies\n",
    "import pandas as pd\n",
    "import matplotlib as plt\n",
    "from sklearn.datasets import make_blobs\n",
    "import sklearn as skl\n",
    "import tensorflow as tf\n"
   ]
  },
  {
   "cell_type": "code",
   "execution_count": 2,
   "metadata": {},
   "outputs": [
    {
     "data": {
      "text/plain": [
       "<AxesSubplot:xlabel='Feature 1', ylabel='Feature 2'>"
      ]
     },
     "execution_count": 2,
     "metadata": {},
     "output_type": "execute_result"
    },
    {
     "data": {
      "image/png": "[encoded data removed]",
      "text/plain": [
       "<Figure size 432x288 with 2 Axes>"
      ]
     },
     "metadata": {
      "needs_background": "light"
     },
     "output_type": "display_data"
    }
   ],
   "source": [
    "# Generate dummy dataset\n",
    "X, y = make_blobs(n_samples=1000, centers=2, n_features=2, random_state=78)\n",
    "\n",
    "# Creating a DataFrame with the dummy data\n",
    "df = pd.DataFrame(X, columns=[\"Feature 1\", \"Feature 2\"])\n",
    "df[\"Target\"] = y\n",
    "\n",
    "# Plotting the dummy data\n",
    "df.plot.scatter(x=\"Feature 1\", y=\"Feature 2\", c=\"Target\", colormap=\"winter\")\n"
   ]
  },
  {
   "cell_type": "code",
   "execution_count": 3,
   "metadata": {},
   "outputs": [],
   "source": [
    "# Use sklearn to split dataset\n",
    "from sklearn.model_selection import train_test_split\n",
    "X_train, X_test, y_train, y_test = train_test_split(X, y, random_state=78)"
   ]
  },
  {
   "cell_type": "code",
   "execution_count": 4,
   "metadata": {},
   "outputs": [],
   "source": [
    "# Create scaler instance\n",
    "X_scaler = skl.preprocessing.StandardScaler()\n",
    "\n",
    "# Fit the scaler\n",
    "X_scaler.fit(X_train)\n",
    "\n",
    "# Scale the data\n",
    "X_train_scaled = X_scaler.transform(X_train)\n",
    "X_test_scaled = X_scaler.transform(X_test)"
   ]
  },
  {
   "cell_type": "code",
   "execution_count": 5,
   "metadata": {},
   "outputs": [],
   "source": [
    "# Create the Keras Sequential model\n",
    "nn_model = tf.keras.models.Sequential()\n"
   ]
  },
  {
   "cell_type": "code",
   "execution_count": 6,
   "metadata": {},
   "outputs": [],
   "source": [
    "# Add our first Dense layer, including the input layer\n",
    "nn_model.add(tf.keras.layers.Dense(units=1, activation=\"relu\", input_dim=2))"
   ]
  },
  {
   "cell_type": "code",
   "execution_count": 7,
   "metadata": {},
   "outputs": [],
   "source": [
    "# Add the output layer that uses a probability activation function\n",
    "nn_model.add(tf.keras.layers.Dense(units=1, activation=\"sigmoid\"))"
   ]
  },
  {
   "cell_type": "code",
   "execution_count": 8,
   "metadata": {},
   "outputs": [
    {
     "name": "stdout",
     "output_type": "stream",
     "text": [
      "Model: \"sequential\"\n",
      "_________________________________________________________________\n",
      "Layer (type)                 Output Shape              Param #   \n",
      "=================================================================\n",
      "dense (Dense)                (None, 1)                 3         \n",
      "_________________________________________________________________\n",
      "dense_1 (Dense)              (None, 1)                 2         \n",
      "=================================================================\n",
      "Total params: 5\n",
      "Trainable params: 5\n",
      "Non-trainable params: 0\n",
      "_________________________________________________________________\n"
     ]
    }
   ],
   "source": [
    "# Check the structure of the Sequential model\n",
    "nn_model.summary()\n"
   ]
  },
  {
   "cell_type": "code",
   "execution_count": 9,
   "metadata": {},
   "outputs": [],
   "source": [
    "# Compile the Sequential model together and customize metrics\n",
    "nn_model.compile(loss=\"binary_crossentropy\", optimizer=\"adam\", metrics=[\"accuracy\"])"
   ]
  },
  {
   "cell_type": "code",
   "execution_count": 10,
   "metadata": {},
   "outputs": [
    {
     "name": "stdout",
     "output_type": "stream",
     "text": [
      "Epoch 1/100\n",
      "24/24 [==============================] - 0s 1ms/step - loss: 0.6920 - accuracy: 0.8027\n",
      "Epoch 2/100\n",
      "24/24 [==============================] - 0s 870us/step - loss: 0.6900 - accuracy: 0.5020\n",
      "Epoch 3/100\n",
      "24/24 [==============================] - 0s 830us/step - loss: 0.6869 - accuracy: 0.5002\n",
      "Epoch 4/100\n",
      "24/24 [==============================] - 0s 873us/step - loss: 0.6824 - accuracy: 0.4987\n",
      "Epoch 5/100\n",
      "24/24 [==============================] - 0s 852us/step - loss: 0.6755 - accuracy: 0.5246\n",
      "Epoch 6/100\n",
      "24/24 [==============================] - 0s 786us/step - loss: 0.6685 - accuracy: 0.4940\n",
      "Epoch 7/100\n",
      "24/24 [==============================] - 0s 859us/step - loss: 0.6578 - accuracy: 0.5107\n",
      "Epoch 8/100\n",
      "24/24 [==============================] - 0s 965us/step - loss: 0.6460 - accuracy: 0.6925\n",
      "Epoch 9/100\n",
      "24/24 [==============================] - 0s 823us/step - loss: 0.6371 - accuracy: 0.9826\n",
      "Epoch 10/100\n",
      "24/24 [==============================] - 0s 816us/step - loss: 0.6247 - accuracy: 0.9829\n",
      "Epoch 11/100\n",
      "24/24 [==============================] - 0s 833us/step - loss: 0.6097 - accuracy: 0.9841\n",
      "Epoch 12/100\n",
      "24/24 [==============================] - 0s 717us/step - loss: 0.5882 - accuracy: 0.9904\n",
      "Epoch 13/100\n",
      "24/24 [==============================] - 0s 905us/step - loss: 0.5800 - accuracy: 0.9885\n",
      "Epoch 14/100\n",
      "24/24 [==============================] - 0s 846us/step - loss: 0.5632 - accuracy: 0.9865\n",
      "Epoch 15/100\n",
      "24/24 [==============================] - 0s 725us/step - loss: 0.5461 - accuracy: 0.9910\n",
      "Epoch 16/100\n",
      "24/24 [==============================] - 0s 855us/step - loss: 0.5323 - accuracy: 0.9820\n",
      "Epoch 17/100\n",
      "24/24 [==============================] - 0s 895us/step - loss: 0.5166 - accuracy: 0.9877\n",
      "Epoch 18/100\n",
      "24/24 [==============================] - 0s 716us/step - loss: 0.4914 - accuracy: 0.9917\n",
      "Epoch 19/100\n",
      "24/24 [==============================] - 0s 867us/step - loss: 0.4788 - accuracy: 0.9848\n",
      "Epoch 20/100\n",
      "24/24 [==============================] - 0s 842us/step - loss: 0.4727 - accuracy: 0.9928\n",
      "Epoch 21/100\n",
      "24/24 [==============================] - 0s 820us/step - loss: 0.4535 - accuracy: 0.9899\n",
      "Epoch 22/100\n",
      "24/24 [==============================] - 0s 906us/step - loss: 0.4367 - accuracy: 0.9964\n",
      "Epoch 23/100\n",
      "24/24 [==============================] - 0s 876us/step - loss: 0.4223 - accuracy: 0.9909\n",
      "Epoch 24/100\n",
      "24/24 [==============================] - 0s 778us/step - loss: 0.4086 - accuracy: 0.9987\n",
      "Epoch 25/100\n",
      "24/24 [==============================] - 0s 898us/step - loss: 0.4015 - accuracy: 0.9965\n",
      "Epoch 26/100\n",
      "24/24 [==============================] - 0s 775us/step - loss: 0.3878 - accuracy: 0.9935\n",
      "Epoch 27/100\n",
      "24/24 [==============================] - 0s 872us/step - loss: 0.3619 - accuracy: 0.9967\n",
      "Epoch 28/100\n",
      "24/24 [==============================] - 0s 883us/step - loss: 0.3572 - accuracy: 0.9948\n",
      "Epoch 29/100\n",
      "24/24 [==============================] - 0s 796us/step - loss: 0.3468 - accuracy: 0.9951\n",
      "Epoch 30/100\n",
      "24/24 [==============================] - 0s 898us/step - loss: 0.3482 - accuracy: 0.9951\n",
      "Epoch 31/100\n",
      "24/24 [==============================] - 0s 857us/step - loss: 0.3299 - accuracy: 0.9930\n",
      "Epoch 32/100\n",
      "24/24 [==============================] - 0s 797us/step - loss: 0.3239 - accuracy: 0.9951\n",
      "Epoch 33/100\n",
      "24/24 [==============================] - 0s 863us/step - loss: 0.3128 - accuracy: 0.9935\n",
      "Epoch 34/100\n",
      "24/24 [==============================] - 0s 834us/step - loss: 0.3030 - accuracy: 0.9971\n",
      "Epoch 35/100\n",
      "24/24 [==============================] - 0s 768us/step - loss: 0.3005 - accuracy: 0.9971\n",
      "Epoch 36/100\n",
      "24/24 [==============================] - 0s 857us/step - loss: 0.2734 - accuracy: 0.9970\n",
      "Epoch 37/100\n",
      "24/24 [==============================] - 0s 1ms/step - loss: 0.2783 - accuracy: 0.9943\n",
      "Epoch 38/100\n",
      "24/24 [==============================] - 0s 854us/step - loss: 0.2691 - accuracy: 0.9954\n",
      "Epoch 39/100\n",
      "24/24 [==============================] - 0s 800us/step - loss: 0.2578 - accuracy: 0.9962\n",
      "Epoch 40/100\n",
      "24/24 [==============================] - 0s 757us/step - loss: 0.2577 - accuracy: 0.9958\n",
      "Epoch 41/100\n",
      "24/24 [==============================] - 0s 857us/step - loss: 0.2491 - accuracy: 0.9970\n",
      "Epoch 42/100\n",
      "24/24 [==============================] - 0s 821us/step - loss: 0.2469 - accuracy: 0.9915\n",
      "Epoch 43/100\n",
      "24/24 [==============================] - 0s 815us/step - loss: 0.2304 - accuracy: 0.9968\n",
      "Epoch 44/100\n",
      "24/24 [==============================] - 0s 838us/step - loss: 0.2297 - accuracy: 0.9970\n",
      "Epoch 45/100\n",
      "24/24 [==============================] - 0s 823us/step - loss: 0.2281 - accuracy: 0.9958\n",
      "Epoch 46/100\n",
      "24/24 [==============================] - 0s 811us/step - loss: 0.2151 - accuracy: 0.9981\n",
      "Epoch 47/100\n",
      "24/24 [==============================] - 0s 737us/step - loss: 0.2105 - accuracy: 0.9991\n",
      "Epoch 48/100\n",
      "24/24 [==============================] - 0s 862us/step - loss: 0.2125 - accuracy: 0.9950\n",
      "Epoch 49/100\n",
      "24/24 [==============================] - 0s 821us/step - loss: 0.1990 - accuracy: 0.9941\n",
      "Epoch 50/100\n",
      "24/24 [==============================] - 0s 722us/step - loss: 0.1948 - accuracy: 0.9958\n",
      "Epoch 51/100\n",
      "24/24 [==============================] - 0s 831us/step - loss: 0.1933 - accuracy: 0.9983\n",
      "Epoch 52/100\n",
      "24/24 [==============================] - 0s 819us/step - loss: 0.1865 - accuracy: 0.9965\n",
      "Epoch 53/100\n",
      "24/24 [==============================] - 0s 869us/step - loss: 0.1866 - accuracy: 0.9946\n",
      "Epoch 54/100\n",
      "24/24 [==============================] - 0s 866us/step - loss: 0.1917 - accuracy: 0.9986\n",
      "Epoch 55/100\n",
      "24/24 [==============================] - 0s 834us/step - loss: 0.1847 - accuracy: 0.9987\n",
      "Epoch 56/100\n",
      "24/24 [==============================] - 0s 790us/step - loss: 0.1693 - accuracy: 0.9977\n",
      "Epoch 57/100\n",
      "24/24 [==============================] - 0s 853us/step - loss: 0.1733 - accuracy: 0.9980\n",
      "Epoch 58/100\n",
      "24/24 [==============================] - 0s 849us/step - loss: 0.1706 - accuracy: 0.9983\n",
      "Epoch 59/100\n",
      "24/24 [==============================] - 0s 828us/step - loss: 0.1681 - accuracy: 0.9986\n",
      "Epoch 60/100\n",
      "24/24 [==============================] - 0s 786us/step - loss: 0.1568 - accuracy: 1.0000\n",
      "Epoch 61/100\n",
      "24/24 [==============================] - 0s 843us/step - loss: 0.1611 - accuracy: 1.0000\n",
      "Epoch 62/100\n",
      "24/24 [==============================] - 0s 810us/step - loss: 0.1591 - accuracy: 1.0000\n",
      "Epoch 63/100\n",
      "24/24 [==============================] - 0s 825us/step - loss: 0.1488 - accuracy: 1.0000\n",
      "Epoch 64/100\n",
      "24/24 [==============================] - 0s 796us/step - loss: 0.1486 - accuracy: 1.0000\n",
      "Epoch 65/100\n",
      "24/24 [==============================] - 0s 850us/step - loss: 0.1484 - accuracy: 1.0000\n",
      "Epoch 66/100\n",
      "24/24 [==============================] - 0s 791us/step - loss: 0.1499 - accuracy: 1.0000\n",
      "Epoch 67/100\n",
      "24/24 [==============================] - 0s 849us/step - loss: 0.1379 - accuracy: 1.0000\n",
      "Epoch 68/100\n",
      "24/24 [==============================] - 0s 796us/step - loss: 0.1338 - accuracy: 1.0000\n",
      "Epoch 69/100\n",
      "24/24 [==============================] - 0s 758us/step - loss: 0.1338 - accuracy: 1.0000\n",
      "Epoch 70/100\n",
      "24/24 [==============================] - 0s 755us/step - loss: 0.1296 - accuracy: 1.0000\n",
      "Epoch 71/100\n",
      "24/24 [==============================] - 0s 801us/step - loss: 0.1207 - accuracy: 1.0000\n",
      "Epoch 72/100\n",
      "24/24 [==============================] - 0s 760us/step - loss: 0.1233 - accuracy: 1.0000\n",
      "Epoch 73/100\n",
      "24/24 [==============================] - 0s 765us/step - loss: 0.1211 - accuracy: 1.0000\n",
      "Epoch 74/100\n",
      "24/24 [==============================] - 0s 784us/step - loss: 0.1255 - accuracy: 1.0000\n",
      "Epoch 75/100\n",
      "24/24 [==============================] - 0s 737us/step - loss: 0.1151 - accuracy: 1.0000\n",
      "Epoch 76/100\n",
      "24/24 [==============================] - 0s 770us/step - loss: 0.1125 - accuracy: 1.0000\n",
      "Epoch 77/100\n",
      "24/24 [==============================] - 0s 766us/step - loss: 0.1142 - accuracy: 1.0000\n",
      "Epoch 78/100\n",
      "24/24 [==============================] - 0s 747us/step - loss: 0.1110 - accuracy: 1.0000\n",
      "Epoch 79/100\n",
      "24/24 [==============================] - 0s 750us/step - loss: 0.1164 - accuracy: 1.0000\n",
      "Epoch 80/100\n",
      "24/24 [==============================] - 0s 747us/step - loss: 0.1089 - accuracy: 1.0000\n",
      "Epoch 81/100\n"
     ]
    },
    {
     "name": "stdout",
     "output_type": "stream",
     "text": [
      "24/24 [==============================] - 0s 786us/step - loss: 0.1077 - accuracy: 1.0000\n",
      "Epoch 82/100\n",
      "24/24 [==============================] - 0s 839us/step - loss: 0.1059 - accuracy: 1.0000\n",
      "Epoch 83/100\n",
      "24/24 [==============================] - 0s 782us/step - loss: 0.1073 - accuracy: 1.0000\n",
      "Epoch 84/100\n",
      "24/24 [==============================] - 0s 799us/step - loss: 0.1010 - accuracy: 1.0000\n",
      "Epoch 85/100\n",
      "24/24 [==============================] - 0s 758us/step - loss: 0.1011 - accuracy: 1.0000\n",
      "Epoch 86/100\n",
      "24/24 [==============================] - 0s 815us/step - loss: 0.0994 - accuracy: 1.0000\n",
      "Epoch 87/100\n",
      "24/24 [==============================] - 0s 823us/step - loss: 0.0962 - accuracy: 1.0000\n",
      "Epoch 88/100\n",
      "24/24 [==============================] - 0s 859us/step - loss: 0.1014 - accuracy: 1.0000\n",
      "Epoch 89/100\n",
      "24/24 [==============================] - 0s 907us/step - loss: 0.0987 - accuracy: 1.0000\n",
      "Epoch 90/100\n",
      "24/24 [==============================] - 0s 919us/step - loss: 0.0921 - accuracy: 1.0000\n",
      "Epoch 91/100\n",
      "24/24 [==============================] - 0s 786us/step - loss: 0.0898 - accuracy: 1.0000\n",
      "Epoch 92/100\n",
      "24/24 [==============================] - 0s 847us/step - loss: 0.0897 - accuracy: 1.0000\n",
      "Epoch 93/100\n",
      "24/24 [==============================] - 0s 825us/step - loss: 0.0891 - accuracy: 1.0000\n",
      "Epoch 94/100\n",
      "24/24 [==============================] - 0s 754us/step - loss: 0.0896 - accuracy: 1.0000\n",
      "Epoch 95/100\n",
      "24/24 [==============================] - 0s 813us/step - loss: 0.0836 - accuracy: 1.0000\n",
      "Epoch 96/100\n",
      "24/24 [==============================] - 0s 813us/step - loss: 0.0841 - accuracy: 1.0000\n",
      "Epoch 97/100\n",
      "24/24 [==============================] - 0s 832us/step - loss: 0.0833 - accuracy: 1.0000\n",
      "Epoch 98/100\n",
      "24/24 [==============================] - 0s 949us/step - loss: 0.0848 - accuracy: 1.0000\n",
      "Epoch 99/100\n",
      "24/24 [==============================] - 0s 856us/step - loss: 0.0794 - accuracy: 1.0000\n",
      "Epoch 100/100\n",
      "24/24 [==============================] - 0s 750us/step - loss: 0.0783 - accuracy: 1.0000\n"
     ]
    }
   ],
   "source": [
    "# Fit the model to the training data\n",
    "fit_model = nn_model.fit(X_train_scaled, y_train, epochs=100)\n"
   ]
  },
  {
   "cell_type": "code",
   "execution_count": 11,
   "metadata": {},
   "outputs": [
    {
     "data": {
      "text/plain": [
       "<AxesSubplot:>"
      ]
     },
     "execution_count": 11,
     "metadata": {},
     "output_type": "execute_result"
    },
    {
     "data": {
      "image/png": "[encoded data removed]",
      "text/plain": [
       "<Figure size 432x288 with 1 Axes>"
      ]
     },
     "metadata": {
      "needs_background": "light"
     },
     "output_type": "display_data"
    }
   ],
   "source": [
    "# Create a DataFrame containing training history\n",
    "history_df = pd.DataFrame(fit_model.history, index=range(1,len(fit_model.history[\"loss\"])+1))\n",
    "\n",
    "# Plot the loss\n",
    "history_df.plot(y=\"loss\")"
   ]
  },
  {
   "cell_type": "code",
   "execution_count": 12,
   "metadata": {},
   "outputs": [
    {
     "data": {
      "text/plain": [
       "<AxesSubplot:>"
      ]
     },
     "execution_count": 12,
     "metadata": {},
     "output_type": "execute_result"
    },
    {
     "data": {
      "image/png": "[encoded data removed]",
      "text/plain": [
       "<Figure size 432x288 with 1 Axes>"
      ]
     },
     "metadata": {
      "needs_background": "light"
     },
     "output_type": "display_data"
    }
   ],
   "source": [
    "# Plot the accuracy\n",
    "history_df.plot(y=\"accuracy\")"
   ]
  },
  {
   "cell_type": "code",
   "execution_count": 13,
   "metadata": {},
   "outputs": [
    {
     "name": "stdout",
     "output_type": "stream",
     "text": [
      "8/8 - 0s - loss: 0.0793 - accuracy: 1.0000\n",
      "Loss: 0.0793256163597107, Accuracy: 1.0\n"
     ]
    }
   ],
   "source": [
    "# Evaluate the model using the test data\n",
    "model_loss, model_accuracy = nn_model.evaluate(X_test_scaled,y_test,verbose=2)\n",
    "print(f\"Loss: {model_loss}, Accuracy: {model_accuracy}\")\n"
   ]
  },
  {
   "cell_type": "code",
   "execution_count": 14,
   "metadata": {},
   "outputs": [
    {
     "data": {
      "text/plain": [
       "array([[0],\n",
       "       [1],\n",
       "       [0],\n",
       "       [1],\n",
       "       [0],\n",
       "       [0],\n",
       "       [1],\n",
       "       [1],\n",
       "       [1],\n",
       "       [0]], dtype=int32)"
      ]
     },
     "execution_count": 14,
     "metadata": {},
     "output_type": "execute_result"
    }
   ],
   "source": [
    "# Predict the classification of a new set of blob data\n",
    "new_X, new_Y = make_blobs(n_samples=10, centers=2, n_features=2, random_state=78)\n",
    "new_X_scaled = X_scaler.transform(new_X)\n",
    "(nn_model.predict(new_X_scaled) > 0.5).astype(\"int32\")\n"
   ]
  },
  {
   "cell_type": "code",
   "execution_count": 15,
   "metadata": {},
   "outputs": [
    {
     "data": {
      "text/plain": [
       "<AxesSubplot:xlabel='Feature 1', ylabel='Feature 2'>"
      ]
     },
     "execution_count": 15,
     "metadata": {},
     "output_type": "execute_result"
    },
    {
     "data": {
      "image/png": "[encoded data removed]",
      "text/plain": [
       "<Figure size 432x288 with 2 Axes>"
      ]
     },
     "metadata": {
      "needs_background": "light"
     },
     "output_type": "display_data"
    }
   ],
   "source": [
    "from sklearn.datasets import make_moons\n",
    "\n",
    "# Creating dummy nonlinear data\n",
    "X_moons, y_moons = make_moons(n_samples=1000, noise=0.08, random_state=78)\n",
    "\n",
    "# Transforming y_moons to a vertical vector\n",
    "y_moons = y_moons.reshape(-1, 1)\n",
    "\n",
    "# Creating a DataFrame to plot the nonlinear dummy data\n",
    "df_moons = pd.DataFrame(X_moons, columns=[\"Feature 1\", \"Feature 2\"])\n",
    "df_moons[\"Target\"] = y_moons\n",
    "\n",
    "# Plot the nonlinear dummy data\n",
    "df_moons.plot.scatter(x=\"Feature 1\",y=\"Feature 2\", c=\"Target\",colormap=\"winter\")\n"
   ]
  },
  {
   "cell_type": "code",
   "execution_count": 16,
   "metadata": {},
   "outputs": [],
   "source": [
    "# Create training and testing sets\n",
    "X_moon_train, X_moon_test, y_moon_train, y_moon_test = train_test_split(X_moons, y_moons, random_state=78)\n",
    "\n",
    "# Create the scaler instance\n",
    "X_moon_scaler = skl.preprocessing.StandardScaler()\n",
    "\n",
    "# Fit the scaler\n",
    "X_moon_scaler.fit(X_moon_train)\n",
    "\n",
    "# Scale the data\n",
    "X_moon_train_scaled = X_moon_scaler.transform(X_moon_train)\n",
    "X_moon_test_scaled = X_moon_scaler.transform(X_moon_test)\n"
   ]
  },
  {
   "cell_type": "code",
   "execution_count": 17,
   "metadata": {},
   "outputs": [
    {
     "name": "stdout",
     "output_type": "stream",
     "text": [
      "Epoch 1/100\n",
      "24/24 [==============================] - 0s 1ms/step - loss: 1.0242 - accuracy: 0.4827\n",
      "Epoch 2/100\n",
      "24/24 [==============================] - 0s 1ms/step - loss: 0.9140 - accuracy: 0.5053\n",
      "Epoch 3/100\n",
      "24/24 [==============================] - 0s 1ms/step - loss: 0.8392 - accuracy: 0.5213\n",
      "Epoch 4/100\n",
      "24/24 [==============================] - 0s 1ms/step - loss: 0.7853 - accuracy: 0.5280\n",
      "Epoch 5/100\n",
      "24/24 [==============================] - 0s 1ms/step - loss: 0.7458 - accuracy: 0.5387\n",
      "Epoch 6/100\n",
      "24/24 [==============================] - 0s 1ms/step - loss: 0.7128 - accuracy: 0.5507\n",
      "Epoch 7/100\n",
      "24/24 [==============================] - 0s 1ms/step - loss: 0.6855 - accuracy: 0.5667\n",
      "Epoch 8/100\n",
      "24/24 [==============================] - 0s 1ms/step - loss: 0.6617 - accuracy: 0.5760\n",
      "Epoch 9/100\n",
      "24/24 [==============================] - 0s 1ms/step - loss: 0.6409 - accuracy: 0.5853\n",
      "Epoch 10/100\n",
      "24/24 [==============================] - 0s 1ms/step - loss: 0.6225 - accuracy: 0.5947\n",
      "Epoch 11/100\n",
      "24/24 [==============================] - 0s 1ms/step - loss: 0.6060 - accuracy: 0.6067\n",
      "Epoch 12/100\n",
      "24/24 [==============================] - 0s 1ms/step - loss: 0.5911 - accuracy: 0.6213\n",
      "Epoch 13/100\n",
      "24/24 [==============================] - 0s 1ms/step - loss: 0.5775 - accuracy: 0.6360\n",
      "Epoch 14/100\n",
      "24/24 [==============================] - 0s 1ms/step - loss: 0.5648 - accuracy: 0.6400\n",
      "Epoch 15/100\n",
      "24/24 [==============================] - 0s 1ms/step - loss: 0.5531 - accuracy: 0.6427\n",
      "Epoch 16/100\n",
      "24/24 [==============================] - 0s 1ms/step - loss: 0.5421 - accuracy: 0.6480\n",
      "Epoch 17/100\n",
      "24/24 [==============================] - 0s 1ms/step - loss: 0.5318 - accuracy: 0.6560\n",
      "Epoch 18/100\n",
      "24/24 [==============================] - 0s 1ms/step - loss: 0.5221 - accuracy: 0.6640\n",
      "Epoch 19/100\n",
      "24/24 [==============================] - 0s 1ms/step - loss: 0.5131 - accuracy: 0.6680\n",
      "Epoch 20/100\n",
      "24/24 [==============================] - 0s 1ms/step - loss: 0.5043 - accuracy: 0.6800\n",
      "Epoch 21/100\n",
      "24/24 [==============================] - 0s 1ms/step - loss: 0.4961 - accuracy: 0.6880\n",
      "Epoch 22/100\n",
      "24/24 [==============================] - 0s 1ms/step - loss: 0.4884 - accuracy: 0.6947\n",
      "Epoch 23/100\n",
      "24/24 [==============================] - 0s 1ms/step - loss: 0.4806 - accuracy: 0.7000\n",
      "Epoch 24/100\n",
      "24/24 [==============================] - 0s 1ms/step - loss: 0.4733 - accuracy: 0.7080\n",
      "Epoch 25/100\n",
      "24/24 [==============================] - 0s 1ms/step - loss: 0.4662 - accuracy: 0.7120\n",
      "Epoch 26/100\n",
      "24/24 [==============================] - 0s 1ms/step - loss: 0.4594 - accuracy: 0.7133\n",
      "Epoch 27/100\n",
      "24/24 [==============================] - 0s 1ms/step - loss: 0.4529 - accuracy: 0.7240\n",
      "Epoch 28/100\n",
      "24/24 [==============================] - 0s 1ms/step - loss: 0.4465 - accuracy: 0.7280\n",
      "Epoch 29/100\n",
      "24/24 [==============================] - 0s 1ms/step - loss: 0.4402 - accuracy: 0.7347\n",
      "Epoch 30/100\n",
      "24/24 [==============================] - 0s 1ms/step - loss: 0.4341 - accuracy: 0.7427\n",
      "Epoch 31/100\n",
      "24/24 [==============================] - 0s 1ms/step - loss: 0.4282 - accuracy: 0.7493\n",
      "Epoch 32/100\n",
      "24/24 [==============================] - 0s 1ms/step - loss: 0.4224 - accuracy: 0.7560\n",
      "Epoch 33/100\n",
      "24/24 [==============================] - 0s 1ms/step - loss: 0.4168 - accuracy: 0.7600\n",
      "Epoch 34/100\n",
      "24/24 [==============================] - 0s 1ms/step - loss: 0.4112 - accuracy: 0.7627\n",
      "Epoch 35/100\n",
      "24/24 [==============================] - 0s 1ms/step - loss: 0.4058 - accuracy: 0.7680\n",
      "Epoch 36/100\n",
      "24/24 [==============================] - 0s 1ms/step - loss: 0.4006 - accuracy: 0.7733\n",
      "Epoch 37/100\n",
      "24/24 [==============================] - 0s 1ms/step - loss: 0.3956 - accuracy: 0.7800\n",
      "Epoch 38/100\n",
      "24/24 [==============================] - 0s 1ms/step - loss: 0.3906 - accuracy: 0.7827\n",
      "Epoch 39/100\n",
      "24/24 [==============================] - 0s 1ms/step - loss: 0.3858 - accuracy: 0.7880\n",
      "Epoch 40/100\n",
      "24/24 [==============================] - 0s 1ms/step - loss: 0.3812 - accuracy: 0.7960\n",
      "Epoch 41/100\n",
      "24/24 [==============================] - 0s 1ms/step - loss: 0.3768 - accuracy: 0.8053\n",
      "Epoch 42/100\n",
      "24/24 [==============================] - 0s 1ms/step - loss: 0.3725 - accuracy: 0.8053\n",
      "Epoch 43/100\n",
      "24/24 [==============================] - 0s 1ms/step - loss: 0.3684 - accuracy: 0.8053\n",
      "Epoch 44/100\n",
      "24/24 [==============================] - 0s 1ms/step - loss: 0.3643 - accuracy: 0.8107\n",
      "Epoch 45/100\n",
      "24/24 [==============================] - 0s 1ms/step - loss: 0.3604 - accuracy: 0.8147\n",
      "Epoch 46/100\n",
      "24/24 [==============================] - 0s 1ms/step - loss: 0.3567 - accuracy: 0.8187\n",
      "Epoch 47/100\n",
      "24/24 [==============================] - 0s 1ms/step - loss: 0.3531 - accuracy: 0.8200\n",
      "Epoch 48/100\n",
      "24/24 [==============================] - 0s 1ms/step - loss: 0.3496 - accuracy: 0.8213\n",
      "Epoch 49/100\n",
      "24/24 [==============================] - 0s 1ms/step - loss: 0.3462 - accuracy: 0.8240\n",
      "Epoch 50/100\n",
      "24/24 [==============================] - 0s 1ms/step - loss: 0.3429 - accuracy: 0.8240\n",
      "Epoch 51/100\n",
      "24/24 [==============================] - 0s 1ms/step - loss: 0.3398 - accuracy: 0.8267\n",
      "Epoch 52/100\n",
      "24/24 [==============================] - 0s 1ms/step - loss: 0.3368 - accuracy: 0.8267\n",
      "Epoch 53/100\n",
      "24/24 [==============================] - 0s 1ms/step - loss: 0.3338 - accuracy: 0.8267\n",
      "Epoch 54/100\n",
      "24/24 [==============================] - 0s 1ms/step - loss: 0.3310 - accuracy: 0.8267\n",
      "Epoch 55/100\n",
      "24/24 [==============================] - 0s 1ms/step - loss: 0.3283 - accuracy: 0.8280\n",
      "Epoch 56/100\n",
      "24/24 [==============================] - 0s 1ms/step - loss: 0.3257 - accuracy: 0.8307\n",
      "Epoch 57/100\n",
      "24/24 [==============================] - 0s 1ms/step - loss: 0.3232 - accuracy: 0.8320\n",
      "Epoch 58/100\n",
      "24/24 [==============================] - 0s 1ms/step - loss: 0.3207 - accuracy: 0.8333\n",
      "Epoch 59/100\n",
      "24/24 [==============================] - 0s 1ms/step - loss: 0.3184 - accuracy: 0.8360\n",
      "Epoch 60/100\n",
      "24/24 [==============================] - 0s 1ms/step - loss: 0.3160 - accuracy: 0.8373\n",
      "Epoch 61/100\n",
      "24/24 [==============================] - 0s 1ms/step - loss: 0.3139 - accuracy: 0.8427\n",
      "Epoch 62/100\n",
      "24/24 [==============================] - 0s 1ms/step - loss: 0.3117 - accuracy: 0.8427\n",
      "Epoch 63/100\n",
      "24/24 [==============================] - 0s 1ms/step - loss: 0.3095 - accuracy: 0.8467\n",
      "Epoch 64/100\n",
      "24/24 [==============================] - 0s 1ms/step - loss: 0.3075 - accuracy: 0.8493\n",
      "Epoch 65/100\n",
      "24/24 [==============================] - 0s 1ms/step - loss: 0.3056 - accuracy: 0.8533\n",
      "Epoch 66/100\n",
      "24/24 [==============================] - 0s 1ms/step - loss: 0.3038 - accuracy: 0.8547\n",
      "Epoch 67/100\n",
      "24/24 [==============================] - 0s 1ms/step - loss: 0.3019 - accuracy: 0.8560\n",
      "Epoch 68/100\n",
      "24/24 [==============================] - 0s 1ms/step - loss: 0.3002 - accuracy: 0.8573\n",
      "Epoch 69/100\n",
      "24/24 [==============================] - 0s 1ms/step - loss: 0.2985 - accuracy: 0.8600\n",
      "Epoch 70/100\n",
      "24/24 [==============================] - 0s 1ms/step - loss: 0.2969 - accuracy: 0.8627\n",
      "Epoch 71/100\n",
      "24/24 [==============================] - 0s 1ms/step - loss: 0.2954 - accuracy: 0.8640\n",
      "Epoch 72/100\n",
      "24/24 [==============================] - 0s 1ms/step - loss: 0.2938 - accuracy: 0.8640\n",
      "Epoch 73/100\n",
      "24/24 [==============================] - 0s 1ms/step - loss: 0.2924 - accuracy: 0.8653\n",
      "Epoch 74/100\n",
      "24/24 [==============================] - 0s 1ms/step - loss: 0.2909 - accuracy: 0.8667\n",
      "Epoch 75/100\n",
      "24/24 [==============================] - 0s 1ms/step - loss: 0.2896 - accuracy: 0.8680\n",
      "Epoch 76/100\n",
      "24/24 [==============================] - 0s 1ms/step - loss: 0.2883 - accuracy: 0.8680\n",
      "Epoch 77/100\n",
      "24/24 [==============================] - 0s 1ms/step - loss: 0.2870 - accuracy: 0.8680\n",
      "Epoch 78/100\n",
      "24/24 [==============================] - 0s 1ms/step - loss: 0.2859 - accuracy: 0.8680\n",
      "Epoch 79/100\n",
      "24/24 [==============================] - 0s 1ms/step - loss: 0.2847 - accuracy: 0.8680\n",
      "Epoch 80/100\n",
      "24/24 [==============================] - 0s 1ms/step - loss: 0.2835 - accuracy: 0.8693\n",
      "Epoch 81/100\n",
      "24/24 [==============================] - 0s 1ms/step - loss: 0.2824 - accuracy: 0.8707\n",
      "Epoch 82/100\n",
      "24/24 [==============================] - 0s 1ms/step - loss: 0.2814 - accuracy: 0.8707\n",
      "Epoch 83/100\n"
     ]
    },
    {
     "name": "stdout",
     "output_type": "stream",
     "text": [
      "24/24 [==============================] - 0s 1ms/step - loss: 0.2803 - accuracy: 0.8733\n",
      "Epoch 84/100\n",
      "24/24 [==============================] - 0s 1ms/step - loss: 0.2794 - accuracy: 0.8760\n",
      "Epoch 85/100\n",
      "24/24 [==============================] - 0s 1ms/step - loss: 0.2784 - accuracy: 0.8773\n",
      "Epoch 86/100\n",
      "24/24 [==============================] - 0s 1ms/step - loss: 0.2775 - accuracy: 0.8773\n",
      "Epoch 87/100\n",
      "24/24 [==============================] - 0s 1ms/step - loss: 0.2766 - accuracy: 0.8787\n",
      "Epoch 88/100\n",
      "24/24 [==============================] - 0s 1ms/step - loss: 0.2757 - accuracy: 0.8787\n",
      "Epoch 89/100\n",
      "24/24 [==============================] - 0s 1ms/step - loss: 0.2749 - accuracy: 0.8787\n",
      "Epoch 90/100\n",
      "24/24 [==============================] - 0s 1ms/step - loss: 0.2741 - accuracy: 0.8800\n",
      "Epoch 91/100\n",
      "24/24 [==============================] - 0s 1ms/step - loss: 0.2732 - accuracy: 0.8813\n",
      "Epoch 92/100\n",
      "24/24 [==============================] - 0s 1ms/step - loss: 0.2725 - accuracy: 0.8813\n",
      "Epoch 93/100\n",
      "24/24 [==============================] - 0s 1ms/step - loss: 0.2718 - accuracy: 0.8813\n",
      "Epoch 94/100\n",
      "24/24 [==============================] - 0s 1ms/step - loss: 0.2711 - accuracy: 0.8827\n",
      "Epoch 95/100\n",
      "24/24 [==============================] - 0s 1ms/step - loss: 0.2704 - accuracy: 0.8840\n",
      "Epoch 96/100\n",
      "24/24 [==============================] - 0s 1ms/step - loss: 0.2698 - accuracy: 0.8840\n",
      "Epoch 97/100\n",
      "24/24 [==============================] - 0s 1ms/step - loss: 0.2691 - accuracy: 0.8840\n",
      "Epoch 98/100\n",
      "24/24 [==============================] - 0s 1ms/step - loss: 0.2685 - accuracy: 0.8840\n",
      "Epoch 99/100\n",
      "24/24 [==============================] - 0s 1ms/step - loss: 0.2680 - accuracy: 0.8840\n",
      "Epoch 100/100\n",
      "24/24 [==============================] - 0s 1ms/step - loss: 0.2674 - accuracy: 0.8853\n"
     ]
    }
   ],
   "source": [
    "# Training the model with the nonlinear data\n",
    "model_moon = nn_model.fit(X_moon_train_scaled, y_moon_train, epochs=100, shuffle=True)\n"
   ]
  },
  {
   "cell_type": "code",
   "execution_count": 18,
   "metadata": {},
   "outputs": [
    {
     "data": {
      "text/plain": [
       "<AxesSubplot:>"
      ]
     },
     "execution_count": 18,
     "metadata": {},
     "output_type": "execute_result"
    },
    {
     "data": {
      "image/png": "[encoded data removed]",
      "text/plain": [
       "<Figure size 432x288 with 1 Axes>"
      ]
     },
     "metadata": {
      "needs_background": "light"
     },
     "output_type": "display_data"
    }
   ],
   "source": [
    "# Create a DataFrame containing training history\n",
    "history_df = pd.DataFrame(model_moon.history, index=range(1,len(model_moon.history[\"loss\"])+1))\n",
    "\n",
    "# Plot the loss\n",
    "history_df.plot(y=\"loss\")"
   ]
  },
  {
   "cell_type": "code",
   "execution_count": 19,
   "metadata": {},
   "outputs": [
    {
     "data": {
      "text/plain": [
       "<AxesSubplot:>"
      ]
     },
     "execution_count": 19,
     "metadata": {},
     "output_type": "execute_result"
    },
    {
     "data": {
      "image/png": "[encoded data removed]",
      "text/plain": [
       "<Figure size 432x288 with 1 Axes>"
      ]
     },
     "metadata": {
      "needs_background": "light"
     },
     "output_type": "display_data"
    }
   ],
   "source": [
    "# Plot the accuracy\n",
    "history_df.plot(y=\"accuracy\")"
   ]
  },
  {
   "cell_type": "code",
   "execution_count": 20,
   "metadata": {},
   "outputs": [],
   "source": [
    "# Generate our new Sequential model\n",
    "new_model = tf.keras.models.Sequential()\n"
   ]
  },
  {
   "cell_type": "code",
   "execution_count": 21,
   "metadata": {},
   "outputs": [],
   "source": [
    "# Add the input and hidden layer\n",
    "number_inputs = 2\n",
    "number_hidden_nodes = 6\n",
    "\n",
    "new_model.add(tf.keras.layers.Dense(units=number_hidden_nodes, activation=\"relu\", input_dim=number_inputs))\n",
    "\n",
    "# Add the output layer that uses a probability activation function\n",
    "new_model.add(tf.keras.layers.Dense(units=1, activation=\"sigmoid\"))\n"
   ]
  },
  {
   "cell_type": "code",
   "execution_count": 22,
   "metadata": {},
   "outputs": [
    {
     "name": "stdout",
     "output_type": "stream",
     "text": [
      "Epoch 1/100\n",
      "24/24 [==============================] - 0s 953us/step - loss: 0.7922 - accuracy: 0.4590\n",
      "Epoch 2/100\n",
      "24/24 [==============================] - 0s 753us/step - loss: 0.7369 - accuracy: 0.4885\n",
      "Epoch 3/100\n",
      "24/24 [==============================] - 0s 900us/step - loss: 0.7028 - accuracy: 0.4788\n",
      "Epoch 4/100\n",
      "24/24 [==============================] - 0s 795us/step - loss: 0.6674 - accuracy: 0.4737\n",
      "Epoch 5/100\n",
      "24/24 [==============================] - 0s 977us/step - loss: 0.6300 - accuracy: 0.5630\n",
      "Epoch 6/100\n",
      "24/24 [==============================] - 0s 922us/step - loss: 0.6107 - accuracy: 0.6870\n",
      "Epoch 7/100\n",
      "24/24 [==============================] - 0s 821us/step - loss: 0.5826 - accuracy: 0.7290\n",
      "Epoch 8/100\n",
      "24/24 [==============================] - 0s 868us/step - loss: 0.5477 - accuracy: 0.7958\n",
      "Epoch 9/100\n",
      "24/24 [==============================] - 0s 868us/step - loss: 0.5203 - accuracy: 0.8423\n",
      "Epoch 10/100\n",
      "24/24 [==============================] - 0s 974us/step - loss: 0.5006 - accuracy: 0.8664\n",
      "Epoch 11/100\n",
      "24/24 [==============================] - 0s 804us/step - loss: 0.4817 - accuracy: 0.8703\n",
      "Epoch 12/100\n",
      "24/24 [==============================] - 0s 1ms/step - loss: 0.4535 - accuracy: 0.8661\n",
      "Epoch 13/100\n",
      "24/24 [==============================] - 0s 870us/step - loss: 0.4330 - accuracy: 0.8699\n",
      "Epoch 14/100\n",
      "24/24 [==============================] - 0s 905us/step - loss: 0.4188 - accuracy: 0.8675\n",
      "Epoch 15/100\n",
      "24/24 [==============================] - 0s 939us/step - loss: 0.3903 - accuracy: 0.8810\n",
      "Epoch 16/100\n",
      "24/24 [==============================] - 0s 747us/step - loss: 0.3727 - accuracy: 0.8845\n",
      "Epoch 17/100\n",
      "24/24 [==============================] - 0s 854us/step - loss: 0.3720 - accuracy: 0.8656\n",
      "Epoch 18/100\n",
      "24/24 [==============================] - 0s 932us/step - loss: 0.3395 - accuracy: 0.8891\n",
      "Epoch 19/100\n",
      "24/24 [==============================] - 0s 780us/step - loss: 0.3320 - accuracy: 0.8796\n",
      "Epoch 20/100\n",
      "24/24 [==============================] - 0s 919us/step - loss: 0.3307 - accuracy: 0.8824\n",
      "Epoch 21/100\n",
      "24/24 [==============================] - 0s 835us/step - loss: 0.3132 - accuracy: 0.8892\n",
      "Epoch 22/100\n",
      "24/24 [==============================] - 0s 894us/step - loss: 0.3246 - accuracy: 0.8693\n",
      "Epoch 23/100\n",
      "24/24 [==============================] - 0s 882us/step - loss: 0.3126 - accuracy: 0.8751\n",
      "Epoch 24/100\n",
      "24/24 [==============================] - 0s 832us/step - loss: 0.2926 - accuracy: 0.8842\n",
      "Epoch 25/100\n",
      "24/24 [==============================] - 0s 884us/step - loss: 0.2805 - accuracy: 0.9021\n",
      "Epoch 26/100\n",
      "24/24 [==============================] - 0s 880us/step - loss: 0.2716 - accuracy: 0.8943\n",
      "Epoch 27/100\n",
      "24/24 [==============================] - 0s 818us/step - loss: 0.2687 - accuracy: 0.8964\n",
      "Epoch 28/100\n",
      "24/24 [==============================] - 0s 885us/step - loss: 0.2754 - accuracy: 0.8905\n",
      "Epoch 29/100\n",
      "24/24 [==============================] - 0s 784us/step - loss: 0.2632 - accuracy: 0.9015\n",
      "Epoch 30/100\n",
      "24/24 [==============================] - 0s 838us/step - loss: 0.2685 - accuracy: 0.8924\n",
      "Epoch 31/100\n",
      "24/24 [==============================] - 0s 950us/step - loss: 0.2770 - accuracy: 0.8716\n",
      "Epoch 32/100\n",
      "24/24 [==============================] - 0s 809us/step - loss: 0.2602 - accuracy: 0.8832\n",
      "Epoch 33/100\n",
      "24/24 [==============================] - 0s 994us/step - loss: 0.2432 - accuracy: 0.9036\n",
      "Epoch 34/100\n",
      "24/24 [==============================] - 0s 865us/step - loss: 0.2731 - accuracy: 0.8885\n",
      "Epoch 35/100\n",
      "24/24 [==============================] - 0s 962us/step - loss: 0.2498 - accuracy: 0.9055\n",
      "Epoch 36/100\n",
      "24/24 [==============================] - 0s 1ms/step - loss: 0.2456 - accuracy: 0.9037\n",
      "Epoch 37/100\n",
      "24/24 [==============================] - 0s 921us/step - loss: 0.2600 - accuracy: 0.8979\n",
      "Epoch 38/100\n",
      "24/24 [==============================] - 0s 847us/step - loss: 0.2419 - accuracy: 0.9027\n",
      "Epoch 39/100\n",
      "24/24 [==============================] - 0s 896us/step - loss: 0.2702 - accuracy: 0.8873\n",
      "Epoch 40/100\n",
      "24/24 [==============================] - 0s 880us/step - loss: 0.2589 - accuracy: 0.8887\n",
      "Epoch 41/100\n",
      "24/24 [==============================] - 0s 799us/step - loss: 0.2290 - accuracy: 0.9080\n",
      "Epoch 42/100\n",
      "24/24 [==============================] - 0s 851us/step - loss: 0.2487 - accuracy: 0.8922\n",
      "Epoch 43/100\n",
      "24/24 [==============================] - 0s 842us/step - loss: 0.2511 - accuracy: 0.9011\n",
      "Epoch 44/100\n",
      "24/24 [==============================] - 0s 863us/step - loss: 0.2389 - accuracy: 0.9025\n",
      "Epoch 45/100\n",
      "24/24 [==============================] - 0s 927us/step - loss: 0.2603 - accuracy: 0.8942\n",
      "Epoch 46/100\n",
      "24/24 [==============================] - 0s 818us/step - loss: 0.2590 - accuracy: 0.8884\n",
      "Epoch 47/100\n",
      "24/24 [==============================] - 0s 852us/step - loss: 0.2330 - accuracy: 0.9051\n",
      "Epoch 48/100\n",
      "24/24 [==============================] - 0s 913us/step - loss: 0.2229 - accuracy: 0.9151\n",
      "Epoch 49/100\n",
      "24/24 [==============================] - 0s 712us/step - loss: 0.2424 - accuracy: 0.8994\n",
      "Epoch 50/100\n",
      "24/24 [==============================] - 0s 906us/step - loss: 0.2359 - accuracy: 0.9059\n",
      "Epoch 51/100\n",
      "24/24 [==============================] - 0s 785us/step - loss: 0.2407 - accuracy: 0.8973\n",
      "Epoch 52/100\n",
      "24/24 [==============================] - 0s 753us/step - loss: 0.2212 - accuracy: 0.9092\n",
      "Epoch 53/100\n",
      "24/24 [==============================] - 0s 875us/step - loss: 0.2456 - accuracy: 0.9032\n",
      "Epoch 54/100\n",
      "24/24 [==============================] - 0s 840us/step - loss: 0.2125 - accuracy: 0.9185\n",
      "Epoch 55/100\n",
      "24/24 [==============================] - 0s 820us/step - loss: 0.2539 - accuracy: 0.8943\n",
      "Epoch 56/100\n",
      "24/24 [==============================] - 0s 931us/step - loss: 0.2511 - accuracy: 0.8996\n",
      "Epoch 57/100\n",
      "24/24 [==============================] - 0s 846us/step - loss: 0.2452 - accuracy: 0.8933\n",
      "Epoch 58/100\n",
      "24/24 [==============================] - 0s 842us/step - loss: 0.2242 - accuracy: 0.9084\n",
      "Epoch 59/100\n",
      "24/24 [==============================] - 0s 923us/step - loss: 0.2352 - accuracy: 0.8984\n",
      "Epoch 60/100\n",
      "24/24 [==============================] - 0s 825us/step - loss: 0.2602 - accuracy: 0.8918\n",
      "Epoch 61/100\n",
      "24/24 [==============================] - 0s 857us/step - loss: 0.2164 - accuracy: 0.9162\n",
      "Epoch 62/100\n",
      "24/24 [==============================] - 0s 863us/step - loss: 0.2419 - accuracy: 0.8997\n",
      "Epoch 63/100\n",
      "24/24 [==============================] - 0s 720us/step - loss: 0.2410 - accuracy: 0.8950\n",
      "Epoch 64/100\n",
      "24/24 [==============================] - 0s 783us/step - loss: 0.2138 - accuracy: 0.9104\n",
      "Epoch 65/100\n",
      "24/24 [==============================] - 0s 875us/step - loss: 0.2290 - accuracy: 0.8965\n",
      "Epoch 66/100\n",
      "24/24 [==============================] - 0s 838us/step - loss: 0.2303 - accuracy: 0.9070\n",
      "Epoch 67/100\n",
      "24/24 [==============================] - 0s 821us/step - loss: 0.2323 - accuracy: 0.9107\n",
      "Epoch 68/100\n",
      "24/24 [==============================] - 0s 860us/step - loss: 0.2430 - accuracy: 0.9015\n",
      "Epoch 69/100\n",
      "24/24 [==============================] - 0s 844us/step - loss: 0.2387 - accuracy: 0.9009\n",
      "Epoch 70/100\n",
      "24/24 [==============================] - 0s 780us/step - loss: 0.2429 - accuracy: 0.8888\n",
      "Epoch 71/100\n",
      "24/24 [==============================] - 0s 837us/step - loss: 0.2305 - accuracy: 0.9003\n",
      "Epoch 72/100\n",
      "24/24 [==============================] - 0s 761us/step - loss: 0.1989 - accuracy: 0.9213\n",
      "Epoch 73/100\n",
      "24/24 [==============================] - 0s 798us/step - loss: 0.2317 - accuracy: 0.8947\n",
      "Epoch 74/100\n",
      "24/24 [==============================] - 0s 787us/step - loss: 0.2301 - accuracy: 0.8915\n",
      "Epoch 75/100\n",
      "24/24 [==============================] - 0s 782us/step - loss: 0.2203 - accuracy: 0.9141\n",
      "Epoch 76/100\n",
      "24/24 [==============================] - 0s 781us/step - loss: 0.2367 - accuracy: 0.9030\n",
      "Epoch 77/100\n",
      "24/24 [==============================] - 0s 771us/step - loss: 0.2178 - accuracy: 0.9079\n",
      "Epoch 78/100\n",
      "24/24 [==============================] - 0s 756us/step - loss: 0.2260 - accuracy: 0.9090\n",
      "Epoch 79/100\n",
      "24/24 [==============================] - 0s 779us/step - loss: 0.1980 - accuracy: 0.9193\n",
      "Epoch 80/100\n",
      "24/24 [==============================] - 0s 765us/step - loss: 0.2070 - accuracy: 0.9091\n",
      "Epoch 81/100\n"
     ]
    },
    {
     "name": "stdout",
     "output_type": "stream",
     "text": [
      "24/24 [==============================] - 0s 791us/step - loss: 0.1927 - accuracy: 0.9193\n",
      "Epoch 82/100\n",
      "24/24 [==============================] - 0s 803us/step - loss: 0.2240 - accuracy: 0.9112\n",
      "Epoch 83/100\n",
      "24/24 [==============================] - 0s 852us/step - loss: 0.1886 - accuracy: 0.9216\n",
      "Epoch 84/100\n",
      "24/24 [==============================] - 0s 790us/step - loss: 0.2269 - accuracy: 0.9051\n",
      "Epoch 85/100\n",
      "24/24 [==============================] - 0s 819us/step - loss: 0.2315 - accuracy: 0.8955\n",
      "Epoch 86/100\n",
      "24/24 [==============================] - 0s 846us/step - loss: 0.2344 - accuracy: 0.9010\n",
      "Epoch 87/100\n",
      "24/24 [==============================] - 0s 771us/step - loss: 0.2351 - accuracy: 0.8979\n",
      "Epoch 88/100\n",
      "24/24 [==============================] - 0s 848us/step - loss: 0.2402 - accuracy: 0.8885\n",
      "Epoch 89/100\n",
      "24/24 [==============================] - 0s 896us/step - loss: 0.1931 - accuracy: 0.9149\n",
      "Epoch 90/100\n",
      "24/24 [==============================] - 0s 814us/step - loss: 0.1972 - accuracy: 0.9222\n",
      "Epoch 91/100\n",
      "24/24 [==============================] - 0s 859us/step - loss: 0.1913 - accuracy: 0.9278\n",
      "Epoch 92/100\n",
      "24/24 [==============================] - 0s 859us/step - loss: 0.2301 - accuracy: 0.9055\n",
      "Epoch 93/100\n",
      "24/24 [==============================] - 0s 712us/step - loss: 0.1963 - accuracy: 0.9151\n",
      "Epoch 94/100\n",
      "24/24 [==============================] - 0s 880us/step - loss: 0.1982 - accuracy: 0.9171\n",
      "Epoch 95/100\n",
      "24/24 [==============================] - 0s 831us/step - loss: 0.2209 - accuracy: 0.9066\n",
      "Epoch 96/100\n",
      "24/24 [==============================] - 0s 723us/step - loss: 0.2120 - accuracy: 0.9080\n",
      "Epoch 97/100\n",
      "24/24 [==============================] - 0s 964us/step - loss: 0.1885 - accuracy: 0.9257\n",
      "Epoch 98/100\n",
      "24/24 [==============================] - 0s 835us/step - loss: 0.2114 - accuracy: 0.9177\n",
      "Epoch 99/100\n",
      "24/24 [==============================] - 0s 737us/step - loss: 0.2003 - accuracy: 0.9182\n",
      "Epoch 100/100\n",
      "24/24 [==============================] - 0s 875us/step - loss: 0.2268 - accuracy: 0.9077\n"
     ]
    }
   ],
   "source": [
    "# Compile the Sequential model together and customize metrics\n",
    "new_model.compile(loss=\"binary_crossentropy\", optimizer=\"adam\", metrics=[\"accuracy\"])\n",
    "\n",
    "# Fit the model to the training data\n",
    "new_fit_model = new_model.fit(X_moon_train_scaled, y_moon_train, epochs=100, shuffle=True)"
   ]
  },
  {
   "cell_type": "code",
   "execution_count": null,
   "metadata": {},
   "outputs": [],
   "source": []
  }
 ],
 "metadata": {
  "kernelspec": {
   "display_name": "mlenv",
   "language": "python",
   "name": "mlenv"
  },
  "language_info": {
   "codemirror_mode": {
    "name": "ipython",
    "version": 3
   },
   "file_extension": ".py",
   "mimetype": "text/x-python",
   "name": "python",
   "nbconvert_exporter": "python",
   "pygments_lexer": "ipython3",
   "version": "3.7.9"
  }
 },
 "nbformat": 4,
 "nbformat_minor": 4
}
